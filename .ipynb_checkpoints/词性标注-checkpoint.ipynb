{
 "cells": [
  {
   "cell_type": "code",
   "execution_count": 59,
   "metadata": {},
   "outputs": [],
   "source": [
    "tag2id, id2tag = {}, {} #标签->id id->标签\n",
    "word2id, id2word = {}, {} # word->id id->word\n",
    "\n",
    "for line in open('traindata.txt'): #构造上述四个map\n",
    "    items = line.split('/')\n",
    "    word,tag = items[0], items[1].rstrip()\n",
    "    if word not in word2id:\n",
    "        word2id[word] = len(word2id)\n",
    "        id2word[len(id2word)] = word\n",
    "    if tag not in tag2id:\n",
    "        tag2id[tag] = len(tag2id)\n",
    "        id2tag[len(id2tag)] = tag\n",
    "M = len(word2id) # M是所有单词的个数\n",
    "N = len(tag2id) # N是所有词性的个数"
   ]
  },
  {
   "cell_type": "code",
   "execution_count": 60,
   "metadata": {},
   "outputs": [
    {
     "name": "stdout",
     "output_type": "stream",
     "text": [
      "18978 54\n"
     ]
    }
   ],
   "source": [
    "# 构建Pi ,A, B\n",
    "import numpy as np \n",
    "pi = np.zeros(N)     #每个词性出现在句首的概率\n",
    "A = np.zeros((N,M))  #词性i下单词j 出现的概率\n",
    "B = np.zeros((N,N))  #词性i 后面出现词性j的概率 \n",
    "print(M,N)"
   ]
  },
  {
   "cell_type": "code",
   "execution_count": 61,
   "metadata": {},
   "outputs": [],
   "source": [
    "prev_tag = \"\"\n",
    "for line in open('traindata.txt'):\n",
    "    items = line.split('/')\n",
    "    wordid , tagid = word2id[items[0]], tag2id[items[1].rstrip()]\n",
    "    if prev_tag == \"\" :\n",
    "        pi[tagid] += 1\n",
    "        A[tagid][wordid] += 1\n",
    "    else:\n",
    "        A[tagid][wordid] += 1\n",
    "        B[tag2id[prev_tag]][tagid] += 1\n",
    "    if items[0] == \".\": \n",
    "        prev_tag = \"\"\n",
    "    else:\n",
    "        prev_tag = items[1].rstrip()\n",
    "#计算概率\n",
    "pi = pi / sum(pi)\n",
    "for i in range(N):\n",
    "    A[i] /= sum(A[i])\n",
    "    B[i] /= sum(B[i])"
   ]
  },
  {
   "cell_type": "code",
   "execution_count": 62,
   "metadata": {},
   "outputs": [],
   "source": [
    "def log(v):\n",
    "    if v == 0:\n",
    "        return np.log(v + 0.000001)\n",
    "    else:\n",
    "        return np.log(v)"
   ]
  },
  {
   "cell_type": "code",
   "execution_count": 69,
   "metadata": {},
   "outputs": [],
   "source": [
    "def viterbi(x,pi,A,B):\n",
    "    \"\"\"\n",
    "    x : 输入指定句子 example: x= \"I like studying nlp\"\n",
    "    \"\"\"\n",
    "    x =  [ word2id[word] for word in x.split(\" \") ] # x: [12, 78, 123, ... ,]\n",
    "    T = len(x)\n",
    "    \n",
    "    dp = np.zeros((N,T))\n",
    "    prev = np.array([ [0 for x in range(T)] for y in range(N)])\n",
    "    for j in range(N):\n",
    "        dp[j][0] = log(pi[j]) + log(A[j][x[0]])\n",
    "    for i in range(N):\n",
    "        for j in range(1,T):\n",
    "            dp[i][j] = -9999999\n",
    "            for k in range(N):\n",
    "                score = dp[i][j-1] + log(A[i][x[j]]) + log(B[k][j])\n",
    "                if score > dp[i][j]:\n",
    "                    dp[i][j] = score\n",
    "                    prev[i][j] = k\n",
    "    max_score = -9999999\n",
    "    max_index = -1\n",
    "    for i in range(N):\n",
    "        if dp[i][T-1] > max_score:\n",
    "            max_score = dp[i][T-1]\n",
    "            max_index = i\n",
    "    rel = []\n",
    "    rel.append(id2tag[max_index])\n",
    "    index = max_index\n",
    "    for t in range(T-1):\n",
    "        index = int(prev[index][T-t-1])\n",
    "        rel.append(id2tag[index])\n",
    "    return rel"
   ]
  },
  {
   "cell_type": "code",
   "execution_count": 73,
   "metadata": {},
   "outputs": [
    {
     "name": "stdout",
     "output_type": "stream",
     "text": [
      "17\n",
      "51\n",
      "41\n"
     ]
    },
    {
     "data": {
      "text/plain": [
       "['PRP', 'VBN', 'RBR|JJR', 'UH']"
      ]
     },
     "execution_count": 73,
     "metadata": {},
     "output_type": "execute_result"
    }
   ],
   "source": [
    "rel = viterbi(\"I like studying learn\",pi,A,B)\n",
    "rel"
   ]
  }
 ],
 "metadata": {
  "kernelspec": {
   "display_name": "Python 3",
   "language": "python",
   "name": "python3"
  },
  "language_info": {
   "codemirror_mode": {
    "name": "ipython",
    "version": 3
   },
   "file_extension": ".py",
   "mimetype": "text/x-python",
   "name": "python",
   "nbconvert_exporter": "python",
   "pygments_lexer": "ipython3",
   "version": "3.7.3"
  }
 },
 "nbformat": 4,
 "nbformat_minor": 2
}
